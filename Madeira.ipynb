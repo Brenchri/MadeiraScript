{
 "cells": [
  {
   "cell_type": "code",
   "execution_count": 1,
   "metadata": {},
   "outputs": [],
   "source": [
    "lat = [32.63628, 32.63645, 3263669, 32.63652, 32.64325, 32.66217 ]\n",
    "lon = [16.93389, 16.93441, 16.93518, 16.93604, 16.91526, 16.89612]\n",
    "genauigkeit = [4, 3, 5, 3, 4, 4]\n",
    "bezeichnung = [\"Vorträge-Treffpunk\", \"Basalt-Flow\", \"Tuff\", \"Andisol-Basalt\", \"CR7\", \"Bot_Garten\"]\n"
   ]
  },
  {
   "cell_type": "code",
   "execution_count": 2,
   "metadata": {},
   "outputs": [],
   "source": [
    "import pandas as pd"
   ]
  },
  {
   "cell_type": "code",
   "execution_count": 3,
   "metadata": {},
   "outputs": [],
   "source": [
    "df = pd.DataFrame(list(zip(lat, lon, genauigkeit, bezeichnung)), \n",
    "               columns =['Latitude', 'Longitude', \"Genauigkeit\", \"Ort\"]) "
   ]
  },
  {
   "cell_type": "code",
   "execution_count": 4,
   "metadata": {},
   "outputs": [
    {
     "data": {
      "text/html": [
       "<div>\n",
       "<style scoped>\n",
       "    .dataframe tbody tr th:only-of-type {\n",
       "        vertical-align: middle;\n",
       "    }\n",
       "\n",
       "    .dataframe tbody tr th {\n",
       "        vertical-align: top;\n",
       "    }\n",
       "\n",
       "    .dataframe thead th {\n",
       "        text-align: right;\n",
       "    }\n",
       "</style>\n",
       "<table border=\"1\" class=\"dataframe\">\n",
       "  <thead>\n",
       "    <tr style=\"text-align: right;\">\n",
       "      <th></th>\n",
       "      <th>Latitude</th>\n",
       "      <th>Longitude</th>\n",
       "      <th>Genauigkeit</th>\n",
       "      <th>Ort</th>\n",
       "    </tr>\n",
       "  </thead>\n",
       "  <tbody>\n",
       "    <tr>\n",
       "      <th>0</th>\n",
       "      <td>3.263628e+01</td>\n",
       "      <td>16.93389</td>\n",
       "      <td>4</td>\n",
       "      <td>Vorträge-Treffpunk</td>\n",
       "    </tr>\n",
       "    <tr>\n",
       "      <th>1</th>\n",
       "      <td>3.263645e+01</td>\n",
       "      <td>16.93441</td>\n",
       "      <td>3</td>\n",
       "      <td>Basalt-Flow</td>\n",
       "    </tr>\n",
       "    <tr>\n",
       "      <th>2</th>\n",
       "      <td>3.263669e+06</td>\n",
       "      <td>16.93518</td>\n",
       "      <td>5</td>\n",
       "      <td>Tuff</td>\n",
       "    </tr>\n",
       "    <tr>\n",
       "      <th>3</th>\n",
       "      <td>3.263652e+01</td>\n",
       "      <td>16.93604</td>\n",
       "      <td>3</td>\n",
       "      <td>Andisol-Basalt</td>\n",
       "    </tr>\n",
       "    <tr>\n",
       "      <th>4</th>\n",
       "      <td>3.264325e+01</td>\n",
       "      <td>16.91526</td>\n",
       "      <td>4</td>\n",
       "      <td>CR7</td>\n",
       "    </tr>\n",
       "    <tr>\n",
       "      <th>5</th>\n",
       "      <td>3.266217e+01</td>\n",
       "      <td>16.89612</td>\n",
       "      <td>4</td>\n",
       "      <td>Bot_Garten</td>\n",
       "    </tr>\n",
       "  </tbody>\n",
       "</table>\n",
       "</div>"
      ],
      "text/plain": [
       "       Latitude  Longitude  Genauigkeit                 Ort\n",
       "0  3.263628e+01   16.93389            4  Vorträge-Treffpunk\n",
       "1  3.263645e+01   16.93441            3         Basalt-Flow\n",
       "2  3.263669e+06   16.93518            5                Tuff\n",
       "3  3.263652e+01   16.93604            3      Andisol-Basalt\n",
       "4  3.264325e+01   16.91526            4                 CR7\n",
       "5  3.266217e+01   16.89612            4          Bot_Garten"
      ]
     },
     "execution_count": 4,
     "metadata": {},
     "output_type": "execute_result"
    }
   ],
   "source": [
    "df"
   ]
  },
  {
   "cell_type": "code",
   "execution_count": 6,
   "metadata": {},
   "outputs": [],
   "source": [
    "df.to_csv('Tag1.csv')"
   ]
  }
 ],
 "metadata": {
  "kernelspec": {
   "display_name": "Python 3",
   "language": "python",
   "name": "python3"
  },
  "language_info": {
   "codemirror_mode": {
    "name": "ipython",
    "version": 3
   },
   "file_extension": ".py",
   "mimetype": "text/x-python",
   "name": "python",
   "nbconvert_exporter": "python",
   "pygments_lexer": "ipython3",
   "version": "3.7.6"
  }
 },
 "nbformat": 4,
 "nbformat_minor": 4
}
